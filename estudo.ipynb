{
 "cells": [
  {
   "cell_type": "code",
   "execution_count": null,
   "id": "54044ead",
   "metadata": {},
   "outputs": [],
   "source": [
    "#pip install -qU pandas numpy matplotlib seaborn scikit-learn xgboost lightgbm scipy catboost imbalanced-learn openpyxl"
   ]
  },
  {
   "cell_type": "code",
   "execution_count": 2,
   "id": "7cb028ed",
   "metadata": {},
   "outputs": [],
   "source": [
    "import pandas as pd\n",
    "import numpy as np\n",
    "import matplotlib.pyplot as plt\n",
    "import seaborn as sns\n",
    "from sklearn.preprocessing import StandardScaler\n",
    "from sklearn.model_selection import train_test_split\n",
    "from sklearn.neighbors import KNeighborsClassifier\n",
    "from sklearn.linear_model import LogisticRegression\n",
    "from sklearn.svm import SVC\n",
    "from sklearn.tree import DecisionTreeClassifier\n",
    "from sklearn.ensemble import RandomForestClassifier\n",
    "from sklearn.naive_bayes import GaussianNB\n",
    "from xgboost import XGBClassifier\n",
    "from xgboost import XGBClassifier\n",
    "from lightgbm import LGBMClassifier\n",
    "from catboost import CatBoostClassifier\n",
    "from imblearn.over_sampling import SMOTE\n",
    "from sklearn.metrics import classification_report, confusion_matrix\n",
    "from math import sqrt\n",
    "from pickle import dump\n",
    "from scipy import stats\n",
    "\n"
   ]
  },
  {
   "cell_type": "markdown",
   "id": "8955beff",
   "metadata": {},
   "source": [
    "## Análise exploratoria"
   ]
  },
  {
   "cell_type": "code",
   "execution_count": 3,
   "id": "36285f3b",
   "metadata": {},
   "outputs": [],
   "source": [
    "df = pd.read_csv(\"bank customer churn dataset.csv\")"
   ]
  },
  {
   "cell_type": "code",
   "execution_count": 4,
   "id": "77e3feaa",
   "metadata": {},
   "outputs": [
    {
     "data": {
      "application/vnd.microsoft.datawrangler.viewer.v0+json": {
       "columns": [
        {
         "name": "index",
         "rawType": "int64",
         "type": "integer"
        },
        {
         "name": "RowNumber",
         "rawType": "int64",
         "type": "integer"
        },
        {
         "name": "CustomerId",
         "rawType": "int64",
         "type": "integer"
        },
        {
         "name": "Surname",
         "rawType": "object",
         "type": "string"
        },
        {
         "name": "CreditScore",
         "rawType": "int64",
         "type": "integer"
        },
        {
         "name": "Geography",
         "rawType": "object",
         "type": "string"
        },
        {
         "name": "Gender",
         "rawType": "object",
         "type": "string"
        },
        {
         "name": "Age",
         "rawType": "int64",
         "type": "integer"
        },
        {
         "name": "Tenure",
         "rawType": "int64",
         "type": "integer"
        },
        {
         "name": "Balance",
         "rawType": "float64",
         "type": "float"
        },
        {
         "name": "NumOfProducts",
         "rawType": "int64",
         "type": "integer"
        },
        {
         "name": "HasCrCard",
         "rawType": "int64",
         "type": "integer"
        },
        {
         "name": "IsActiveMember",
         "rawType": "int64",
         "type": "integer"
        },
        {
         "name": "EstimatedSalary",
         "rawType": "float64",
         "type": "float"
        },
        {
         "name": "Exited",
         "rawType": "int64",
         "type": "integer"
        }
       ],
       "ref": "fba1808d-d12c-4d3f-b003-497a47a3f1bb",
       "rows": [
        [
         "0",
         "1",
         "15634602",
         "Hargrave",
         "619",
         "France",
         "Female",
         "42",
         "2",
         "0.0",
         "1",
         "1",
         "1",
         "101348.88",
         "1"
        ],
        [
         "1",
         "2",
         "15647311",
         "Hill",
         "608",
         "Spain",
         "Female",
         "41",
         "1",
         "83807.86",
         "1",
         "0",
         "1",
         "112542.58",
         "0"
        ],
        [
         "2",
         "3",
         "15619304",
         "Onio",
         "502",
         "France",
         "Female",
         "42",
         "8",
         "159660.8",
         "3",
         "1",
         "0",
         "113931.57",
         "1"
        ],
        [
         "3",
         "4",
         "15701354",
         "Boni",
         "699",
         "France",
         "Female",
         "39",
         "1",
         "0.0",
         "2",
         "0",
         "0",
         "93826.63",
         "0"
        ],
        [
         "4",
         "5",
         "15737888",
         "Mitchell",
         "850",
         "Spain",
         "Female",
         "43",
         "2",
         "125510.82",
         "1",
         "1",
         "1",
         "79084.1",
         "0"
        ],
        [
         "5",
         "6",
         "15574012",
         "Chu",
         "645",
         "Spain",
         "Male",
         "44",
         "8",
         "113755.78",
         "2",
         "1",
         "0",
         "149756.71",
         "1"
        ],
        [
         "6",
         "7",
         "15592531",
         "Bartlett",
         "822",
         "France",
         "Male",
         "50",
         "7",
         "0.0",
         "2",
         "1",
         "1",
         "10062.8",
         "0"
        ],
        [
         "7",
         "8",
         "15656148",
         "Obinna",
         "376",
         "Germany",
         "Female",
         "29",
         "4",
         "115046.74",
         "4",
         "1",
         "0",
         "119346.88",
         "1"
        ],
        [
         "8",
         "9",
         "15792365",
         "He",
         "501",
         "France",
         "Male",
         "44",
         "4",
         "142051.07",
         "2",
         "0",
         "1",
         "74940.5",
         "0"
        ],
        [
         "9",
         "10",
         "15592389",
         "H?",
         "684",
         "France",
         "Male",
         "27",
         "2",
         "134603.88",
         "1",
         "1",
         "1",
         "71725.73",
         "0"
        ],
        [
         "10",
         "11",
         "15767821",
         "Bearce",
         "528",
         "France",
         "Male",
         "31",
         "6",
         "102016.72",
         "2",
         "0",
         "0",
         "80181.12",
         "0"
        ],
        [
         "11",
         "12",
         "15737173",
         "Andrews",
         "497",
         "Spain",
         "Male",
         "24",
         "3",
         "0.0",
         "2",
         "1",
         "0",
         "76390.01",
         "0"
        ],
        [
         "12",
         "13",
         "15632264",
         "Kay",
         "476",
         "France",
         "Female",
         "34",
         "10",
         "0.0",
         "2",
         "1",
         "0",
         "26260.98",
         "0"
        ],
        [
         "13",
         "14",
         "15691483",
         "Chin",
         "549",
         "France",
         "Female",
         "25",
         "5",
         "0.0",
         "2",
         "0",
         "0",
         "190857.79",
         "0"
        ],
        [
         "14",
         "15",
         "15600882",
         "Scott",
         "635",
         "Spain",
         "Female",
         "35",
         "7",
         "0.0",
         "2",
         "1",
         "1",
         "65951.65",
         "0"
        ],
        [
         "15",
         "16",
         "15643966",
         "Goforth",
         "616",
         "Germany",
         "Male",
         "45",
         "3",
         "143129.41",
         "2",
         "0",
         "1",
         "64327.26",
         "0"
        ],
        [
         "16",
         "17",
         "15737452",
         "Romeo",
         "653",
         "Germany",
         "Male",
         "58",
         "1",
         "132602.88",
         "1",
         "1",
         "0",
         "5097.67",
         "1"
        ],
        [
         "17",
         "18",
         "15788218",
         "Henderson",
         "549",
         "Spain",
         "Female",
         "24",
         "9",
         "0.0",
         "2",
         "1",
         "1",
         "14406.41",
         "0"
        ],
        [
         "18",
         "19",
         "15661507",
         "Muldrow",
         "587",
         "Spain",
         "Male",
         "45",
         "6",
         "0.0",
         "1",
         "0",
         "0",
         "158684.81",
         "0"
        ],
        [
         "19",
         "20",
         "15568982",
         "Hao",
         "726",
         "France",
         "Female",
         "24",
         "6",
         "0.0",
         "2",
         "1",
         "1",
         "54724.03",
         "0"
        ],
        [
         "20",
         "21",
         "15577657",
         "McDonald",
         "732",
         "France",
         "Male",
         "41",
         "8",
         "0.0",
         "2",
         "1",
         "1",
         "170886.17",
         "0"
        ],
        [
         "21",
         "22",
         "15597945",
         "Dellucci",
         "636",
         "Spain",
         "Female",
         "32",
         "8",
         "0.0",
         "2",
         "1",
         "0",
         "138555.46",
         "0"
        ],
        [
         "22",
         "23",
         "15699309",
         "Gerasimov",
         "510",
         "Spain",
         "Female",
         "38",
         "4",
         "0.0",
         "1",
         "1",
         "0",
         "118913.53",
         "1"
        ],
        [
         "23",
         "24",
         "15725737",
         "Mosman",
         "669",
         "France",
         "Male",
         "46",
         "3",
         "0.0",
         "2",
         "0",
         "1",
         "8487.75",
         "0"
        ],
        [
         "24",
         "25",
         "15625047",
         "Yen",
         "846",
         "France",
         "Female",
         "38",
         "5",
         "0.0",
         "1",
         "1",
         "1",
         "187616.16",
         "0"
        ],
        [
         "25",
         "26",
         "15738191",
         "Maclean",
         "577",
         "France",
         "Male",
         "25",
         "3",
         "0.0",
         "2",
         "0",
         "1",
         "124508.29",
         "0"
        ],
        [
         "26",
         "27",
         "15736816",
         "Young",
         "756",
         "Germany",
         "Male",
         "36",
         "2",
         "136815.64",
         "1",
         "1",
         "1",
         "170041.95",
         "0"
        ],
        [
         "27",
         "28",
         "15700772",
         "Nebechi",
         "571",
         "France",
         "Male",
         "44",
         "9",
         "0.0",
         "2",
         "0",
         "0",
         "38433.35",
         "0"
        ],
        [
         "28",
         "29",
         "15728693",
         "McWilliams",
         "574",
         "Germany",
         "Female",
         "43",
         "3",
         "141349.43",
         "1",
         "1",
         "1",
         "100187.43",
         "0"
        ],
        [
         "29",
         "30",
         "15656300",
         "Lucciano",
         "411",
         "France",
         "Male",
         "29",
         "0",
         "59697.17",
         "2",
         "1",
         "1",
         "53483.21",
         "0"
        ],
        [
         "30",
         "31",
         "15589475",
         "Azikiwe",
         "591",
         "Spain",
         "Female",
         "39",
         "3",
         "0.0",
         "3",
         "1",
         "0",
         "140469.38",
         "1"
        ],
        [
         "31",
         "32",
         "15706552",
         "Odinakachukwu",
         "533",
         "France",
         "Male",
         "36",
         "7",
         "85311.7",
         "1",
         "0",
         "1",
         "156731.91",
         "0"
        ],
        [
         "32",
         "33",
         "15750181",
         "Sanderson",
         "553",
         "Germany",
         "Male",
         "41",
         "9",
         "110112.54",
         "2",
         "0",
         "0",
         "81898.81",
         "0"
        ],
        [
         "33",
         "34",
         "15659428",
         "Maggard",
         "520",
         "Spain",
         "Female",
         "42",
         "6",
         "0.0",
         "2",
         "1",
         "1",
         "34410.55",
         "0"
        ],
        [
         "34",
         "35",
         "15732963",
         "Clements",
         "722",
         "Spain",
         "Female",
         "29",
         "9",
         "0.0",
         "2",
         "1",
         "1",
         "142033.07",
         "0"
        ],
        [
         "35",
         "36",
         "15794171",
         "Lombardo",
         "475",
         "France",
         "Female",
         "45",
         "0",
         "134264.04",
         "1",
         "1",
         "0",
         "27822.99",
         "1"
        ],
        [
         "36",
         "37",
         "15788448",
         "Watson",
         "490",
         "Spain",
         "Male",
         "31",
         "3",
         "145260.23",
         "1",
         "0",
         "1",
         "114066.77",
         "0"
        ],
        [
         "37",
         "38",
         "15729599",
         "Lorenzo",
         "804",
         "Spain",
         "Male",
         "33",
         "7",
         "76548.6",
         "1",
         "0",
         "1",
         "98453.45",
         "0"
        ],
        [
         "38",
         "39",
         "15717426",
         "Armstrong",
         "850",
         "France",
         "Male",
         "36",
         "7",
         "0.0",
         "1",
         "1",
         "1",
         "40812.9",
         "0"
        ],
        [
         "39",
         "40",
         "15585768",
         "Cameron",
         "582",
         "Germany",
         "Male",
         "41",
         "6",
         "70349.48",
         "2",
         "0",
         "1",
         "178074.04",
         "0"
        ],
        [
         "40",
         "41",
         "15619360",
         "Hsiao",
         "472",
         "Spain",
         "Male",
         "40",
         "4",
         "0.0",
         "1",
         "1",
         "0",
         "70154.22",
         "0"
        ],
        [
         "41",
         "42",
         "15738148",
         "Clarke",
         "465",
         "France",
         "Female",
         "51",
         "8",
         "122522.32",
         "1",
         "0",
         "0",
         "181297.65",
         "1"
        ],
        [
         "42",
         "43",
         "15687946",
         "Osborne",
         "556",
         "France",
         "Female",
         "61",
         "2",
         "117419.35",
         "1",
         "1",
         "1",
         "94153.83",
         "0"
        ],
        [
         "43",
         "44",
         "15755196",
         "Lavine",
         "834",
         "France",
         "Female",
         "49",
         "2",
         "131394.56",
         "1",
         "0",
         "0",
         "194365.76",
         "1"
        ],
        [
         "44",
         "45",
         "15684171",
         "Bianchi",
         "660",
         "Spain",
         "Female",
         "61",
         "5",
         "155931.11",
         "1",
         "1",
         "1",
         "158338.39",
         "0"
        ],
        [
         "45",
         "46",
         "15754849",
         "Tyler",
         "776",
         "Germany",
         "Female",
         "32",
         "4",
         "109421.13",
         "2",
         "1",
         "1",
         "126517.46",
         "0"
        ],
        [
         "46",
         "47",
         "15602280",
         "Martin",
         "829",
         "Germany",
         "Female",
         "27",
         "9",
         "112045.67",
         "1",
         "1",
         "1",
         "119708.21",
         "1"
        ],
        [
         "47",
         "48",
         "15771573",
         "Okagbue",
         "637",
         "Germany",
         "Female",
         "39",
         "9",
         "137843.8",
         "1",
         "1",
         "1",
         "117622.8",
         "1"
        ],
        [
         "48",
         "49",
         "15766205",
         "Yin",
         "550",
         "Germany",
         "Male",
         "38",
         "2",
         "103391.38",
         "1",
         "0",
         "1",
         "90878.13",
         "0"
        ],
        [
         "49",
         "50",
         "15771873",
         "Buccho",
         "776",
         "Germany",
         "Female",
         "37",
         "2",
         "103769.22",
         "2",
         "1",
         "0",
         "194099.12",
         "0"
        ]
       ],
       "shape": {
        "columns": 14,
        "rows": 10000
       }
      },
      "text/html": [
       "<div>\n",
       "<style scoped>\n",
       "    .dataframe tbody tr th:only-of-type {\n",
       "        vertical-align: middle;\n",
       "    }\n",
       "\n",
       "    .dataframe tbody tr th {\n",
       "        vertical-align: top;\n",
       "    }\n",
       "\n",
       "    .dataframe thead th {\n",
       "        text-align: right;\n",
       "    }\n",
       "</style>\n",
       "<table border=\"1\" class=\"dataframe\">\n",
       "  <thead>\n",
       "    <tr style=\"text-align: right;\">\n",
       "      <th></th>\n",
       "      <th>RowNumber</th>\n",
       "      <th>CustomerId</th>\n",
       "      <th>Surname</th>\n",
       "      <th>CreditScore</th>\n",
       "      <th>Geography</th>\n",
       "      <th>Gender</th>\n",
       "      <th>Age</th>\n",
       "      <th>Tenure</th>\n",
       "      <th>Balance</th>\n",
       "      <th>NumOfProducts</th>\n",
       "      <th>HasCrCard</th>\n",
       "      <th>IsActiveMember</th>\n",
       "      <th>EstimatedSalary</th>\n",
       "      <th>Exited</th>\n",
       "    </tr>\n",
       "  </thead>\n",
       "  <tbody>\n",
       "    <tr>\n",
       "      <th>0</th>\n",
       "      <td>1</td>\n",
       "      <td>15634602</td>\n",
       "      <td>Hargrave</td>\n",
       "      <td>619</td>\n",
       "      <td>France</td>\n",
       "      <td>Female</td>\n",
       "      <td>42</td>\n",
       "      <td>2</td>\n",
       "      <td>0.00</td>\n",
       "      <td>1</td>\n",
       "      <td>1</td>\n",
       "      <td>1</td>\n",
       "      <td>101348.88</td>\n",
       "      <td>1</td>\n",
       "    </tr>\n",
       "    <tr>\n",
       "      <th>1</th>\n",
       "      <td>2</td>\n",
       "      <td>15647311</td>\n",
       "      <td>Hill</td>\n",
       "      <td>608</td>\n",
       "      <td>Spain</td>\n",
       "      <td>Female</td>\n",
       "      <td>41</td>\n",
       "      <td>1</td>\n",
       "      <td>83807.86</td>\n",
       "      <td>1</td>\n",
       "      <td>0</td>\n",
       "      <td>1</td>\n",
       "      <td>112542.58</td>\n",
       "      <td>0</td>\n",
       "    </tr>\n",
       "    <tr>\n",
       "      <th>2</th>\n",
       "      <td>3</td>\n",
       "      <td>15619304</td>\n",
       "      <td>Onio</td>\n",
       "      <td>502</td>\n",
       "      <td>France</td>\n",
       "      <td>Female</td>\n",
       "      <td>42</td>\n",
       "      <td>8</td>\n",
       "      <td>159660.80</td>\n",
       "      <td>3</td>\n",
       "      <td>1</td>\n",
       "      <td>0</td>\n",
       "      <td>113931.57</td>\n",
       "      <td>1</td>\n",
       "    </tr>\n",
       "    <tr>\n",
       "      <th>3</th>\n",
       "      <td>4</td>\n",
       "      <td>15701354</td>\n",
       "      <td>Boni</td>\n",
       "      <td>699</td>\n",
       "      <td>France</td>\n",
       "      <td>Female</td>\n",
       "      <td>39</td>\n",
       "      <td>1</td>\n",
       "      <td>0.00</td>\n",
       "      <td>2</td>\n",
       "      <td>0</td>\n",
       "      <td>0</td>\n",
       "      <td>93826.63</td>\n",
       "      <td>0</td>\n",
       "    </tr>\n",
       "    <tr>\n",
       "      <th>4</th>\n",
       "      <td>5</td>\n",
       "      <td>15737888</td>\n",
       "      <td>Mitchell</td>\n",
       "      <td>850</td>\n",
       "      <td>Spain</td>\n",
       "      <td>Female</td>\n",
       "      <td>43</td>\n",
       "      <td>2</td>\n",
       "      <td>125510.82</td>\n",
       "      <td>1</td>\n",
       "      <td>1</td>\n",
       "      <td>1</td>\n",
       "      <td>79084.10</td>\n",
       "      <td>0</td>\n",
       "    </tr>\n",
       "    <tr>\n",
       "      <th>...</th>\n",
       "      <td>...</td>\n",
       "      <td>...</td>\n",
       "      <td>...</td>\n",
       "      <td>...</td>\n",
       "      <td>...</td>\n",
       "      <td>...</td>\n",
       "      <td>...</td>\n",
       "      <td>...</td>\n",
       "      <td>...</td>\n",
       "      <td>...</td>\n",
       "      <td>...</td>\n",
       "      <td>...</td>\n",
       "      <td>...</td>\n",
       "      <td>...</td>\n",
       "    </tr>\n",
       "    <tr>\n",
       "      <th>9995</th>\n",
       "      <td>9996</td>\n",
       "      <td>15606229</td>\n",
       "      <td>Obijiaku</td>\n",
       "      <td>771</td>\n",
       "      <td>France</td>\n",
       "      <td>Male</td>\n",
       "      <td>39</td>\n",
       "      <td>5</td>\n",
       "      <td>0.00</td>\n",
       "      <td>2</td>\n",
       "      <td>1</td>\n",
       "      <td>0</td>\n",
       "      <td>96270.64</td>\n",
       "      <td>0</td>\n",
       "    </tr>\n",
       "    <tr>\n",
       "      <th>9996</th>\n",
       "      <td>9997</td>\n",
       "      <td>15569892</td>\n",
       "      <td>Johnstone</td>\n",
       "      <td>516</td>\n",
       "      <td>France</td>\n",
       "      <td>Male</td>\n",
       "      <td>35</td>\n",
       "      <td>10</td>\n",
       "      <td>57369.61</td>\n",
       "      <td>1</td>\n",
       "      <td>1</td>\n",
       "      <td>1</td>\n",
       "      <td>101699.77</td>\n",
       "      <td>0</td>\n",
       "    </tr>\n",
       "    <tr>\n",
       "      <th>9997</th>\n",
       "      <td>9998</td>\n",
       "      <td>15584532</td>\n",
       "      <td>Liu</td>\n",
       "      <td>709</td>\n",
       "      <td>France</td>\n",
       "      <td>Female</td>\n",
       "      <td>36</td>\n",
       "      <td>7</td>\n",
       "      <td>0.00</td>\n",
       "      <td>1</td>\n",
       "      <td>0</td>\n",
       "      <td>1</td>\n",
       "      <td>42085.58</td>\n",
       "      <td>1</td>\n",
       "    </tr>\n",
       "    <tr>\n",
       "      <th>9998</th>\n",
       "      <td>9999</td>\n",
       "      <td>15682355</td>\n",
       "      <td>Sabbatini</td>\n",
       "      <td>772</td>\n",
       "      <td>Germany</td>\n",
       "      <td>Male</td>\n",
       "      <td>42</td>\n",
       "      <td>3</td>\n",
       "      <td>75075.31</td>\n",
       "      <td>2</td>\n",
       "      <td>1</td>\n",
       "      <td>0</td>\n",
       "      <td>92888.52</td>\n",
       "      <td>1</td>\n",
       "    </tr>\n",
       "    <tr>\n",
       "      <th>9999</th>\n",
       "      <td>10000</td>\n",
       "      <td>15628319</td>\n",
       "      <td>Walker</td>\n",
       "      <td>792</td>\n",
       "      <td>France</td>\n",
       "      <td>Female</td>\n",
       "      <td>28</td>\n",
       "      <td>4</td>\n",
       "      <td>130142.79</td>\n",
       "      <td>1</td>\n",
       "      <td>1</td>\n",
       "      <td>0</td>\n",
       "      <td>38190.78</td>\n",
       "      <td>0</td>\n",
       "    </tr>\n",
       "  </tbody>\n",
       "</table>\n",
       "<p>10000 rows × 14 columns</p>\n",
       "</div>"
      ],
      "text/plain": [
       "      RowNumber  CustomerId    Surname  CreditScore Geography  Gender  Age  \\\n",
       "0             1    15634602   Hargrave          619    France  Female   42   \n",
       "1             2    15647311       Hill          608     Spain  Female   41   \n",
       "2             3    15619304       Onio          502    France  Female   42   \n",
       "3             4    15701354       Boni          699    France  Female   39   \n",
       "4             5    15737888   Mitchell          850     Spain  Female   43   \n",
       "...         ...         ...        ...          ...       ...     ...  ...   \n",
       "9995       9996    15606229   Obijiaku          771    France    Male   39   \n",
       "9996       9997    15569892  Johnstone          516    France    Male   35   \n",
       "9997       9998    15584532        Liu          709    France  Female   36   \n",
       "9998       9999    15682355  Sabbatini          772   Germany    Male   42   \n",
       "9999      10000    15628319     Walker          792    France  Female   28   \n",
       "\n",
       "      Tenure    Balance  NumOfProducts  HasCrCard  IsActiveMember  \\\n",
       "0          2       0.00              1          1               1   \n",
       "1          1   83807.86              1          0               1   \n",
       "2          8  159660.80              3          1               0   \n",
       "3          1       0.00              2          0               0   \n",
       "4          2  125510.82              1          1               1   \n",
       "...      ...        ...            ...        ...             ...   \n",
       "9995       5       0.00              2          1               0   \n",
       "9996      10   57369.61              1          1               1   \n",
       "9997       7       0.00              1          0               1   \n",
       "9998       3   75075.31              2          1               0   \n",
       "9999       4  130142.79              1          1               0   \n",
       "\n",
       "      EstimatedSalary  Exited  \n",
       "0           101348.88       1  \n",
       "1           112542.58       0  \n",
       "2           113931.57       1  \n",
       "3            93826.63       0  \n",
       "4            79084.10       0  \n",
       "...               ...     ...  \n",
       "9995         96270.64       0  \n",
       "9996        101699.77       0  \n",
       "9997         42085.58       1  \n",
       "9998         92888.52       1  \n",
       "9999         38190.78       0  \n",
       "\n",
       "[10000 rows x 14 columns]"
      ]
     },
     "execution_count": 4,
     "metadata": {},
     "output_type": "execute_result"
    }
   ],
   "source": [
    "df"
   ]
  },
  {
   "cell_type": "code",
   "execution_count": 5,
   "id": "b3af9485",
   "metadata": {},
   "outputs": [
    {
     "data": {
      "text/plain": [
       "(10000, 14)"
      ]
     },
     "execution_count": 5,
     "metadata": {},
     "output_type": "execute_result"
    }
   ],
   "source": [
    "df.shape"
   ]
  },
  {
   "cell_type": "code",
   "execution_count": 6,
   "id": "abb45ac1",
   "metadata": {},
   "outputs": [
    {
     "data": {
      "text/plain": [
       "Index(['RowNumber', 'CustomerId', 'Surname', 'CreditScore', 'Geography',\n",
       "       'Gender', 'Age', 'Tenure', 'Balance', 'NumOfProducts', 'HasCrCard',\n",
       "       'IsActiveMember', 'EstimatedSalary', 'Exited'],\n",
       "      dtype='object')"
      ]
     },
     "execution_count": 6,
     "metadata": {},
     "output_type": "execute_result"
    }
   ],
   "source": [
    "df.columns"
   ]
  },
  {
   "cell_type": "code",
   "execution_count": 7,
   "id": "4fa8a579",
   "metadata": {},
   "outputs": [
    {
     "name": "stdout",
     "output_type": "stream",
     "text": [
      "<class 'pandas.core.frame.DataFrame'>\n",
      "RangeIndex: 10000 entries, 0 to 9999\n",
      "Data columns (total 14 columns):\n",
      " #   Column           Non-Null Count  Dtype  \n",
      "---  ------           --------------  -----  \n",
      " 0   RowNumber        10000 non-null  int64  \n",
      " 1   CustomerId       10000 non-null  int64  \n",
      " 2   Surname          10000 non-null  object \n",
      " 3   CreditScore      10000 non-null  int64  \n",
      " 4   Geography        10000 non-null  object \n",
      " 5   Gender           10000 non-null  object \n",
      " 6   Age              10000 non-null  int64  \n",
      " 7   Tenure           10000 non-null  int64  \n",
      " 8   Balance          10000 non-null  float64\n",
      " 9   NumOfProducts    10000 non-null  int64  \n",
      " 10  HasCrCard        10000 non-null  int64  \n",
      " 11  IsActiveMember   10000 non-null  int64  \n",
      " 12  EstimatedSalary  10000 non-null  float64\n",
      " 13  Exited           10000 non-null  int64  \n",
      "dtypes: float64(2), int64(9), object(3)\n",
      "memory usage: 1.1+ MB\n"
     ]
    }
   ],
   "source": [
    "df.info()"
   ]
  },
  {
   "cell_type": "code",
   "execution_count": 8,
   "id": "4a6fbe9f",
   "metadata": {},
   "outputs": [
    {
     "data": {
      "application/vnd.microsoft.datawrangler.viewer.v0+json": {
       "columns": [
        {
         "name": "index",
         "rawType": "object",
         "type": "string"
        },
        {
         "name": "0",
         "rawType": "int64",
         "type": "integer"
        }
       ],
       "ref": "46ff039e-d551-4c64-85be-ea6f1afe333a",
       "rows": [
        [
         "RowNumber",
         "0"
        ],
        [
         "CustomerId",
         "0"
        ],
        [
         "Surname",
         "0"
        ],
        [
         "CreditScore",
         "0"
        ],
        [
         "Geography",
         "0"
        ],
        [
         "Gender",
         "0"
        ],
        [
         "Age",
         "0"
        ],
        [
         "Tenure",
         "0"
        ],
        [
         "Balance",
         "0"
        ],
        [
         "NumOfProducts",
         "0"
        ],
        [
         "HasCrCard",
         "0"
        ],
        [
         "IsActiveMember",
         "0"
        ],
        [
         "EstimatedSalary",
         "0"
        ],
        [
         "Exited",
         "0"
        ]
       ],
       "shape": {
        "columns": 1,
        "rows": 14
       }
      },
      "text/plain": [
       "RowNumber          0\n",
       "CustomerId         0\n",
       "Surname            0\n",
       "CreditScore        0\n",
       "Geography          0\n",
       "Gender             0\n",
       "Age                0\n",
       "Tenure             0\n",
       "Balance            0\n",
       "NumOfProducts      0\n",
       "HasCrCard          0\n",
       "IsActiveMember     0\n",
       "EstimatedSalary    0\n",
       "Exited             0\n",
       "dtype: int64"
      ]
     },
     "execution_count": 8,
     "metadata": {},
     "output_type": "execute_result"
    }
   ],
   "source": [
    "df.isnull().sum()"
   ]
  },
  {
   "cell_type": "code",
   "execution_count": 9,
   "id": "eb22d878",
   "metadata": {},
   "outputs": [
    {
     "data": {
      "text/plain": [
       "np.int64(0)"
      ]
     },
     "execution_count": 9,
     "metadata": {},
     "output_type": "execute_result"
    }
   ],
   "source": [
    "df.duplicated().sum()"
   ]
  },
  {
   "cell_type": "markdown",
   "id": "058e82dc",
   "metadata": {},
   "source": [
    "### Data Cleaning"
   ]
  },
  {
   "cell_type": "code",
   "execution_count": 10,
   "id": "9e2ad360",
   "metadata": {},
   "outputs": [],
   "source": [
    "df.rename(columns={'HasCrCard': 'Has credit card','IsActiveMember':'Is Active Member','CreditScore':'Credit Score',\n",
    "                   'NumOfProducts':'Number Of Products','EstimatedSalary':'Estimated Salary','Exited':'Churned'} ,inplace=True)"
   ]
  },
  {
   "cell_type": "code",
   "execution_count": 11,
   "id": "e2dca9a1",
   "metadata": {},
   "outputs": [],
   "source": [
    "df.drop(['RowNumber', 'CustomerId', 'Surname'], inplace=True, axis=1)"
   ]
  },
  {
   "cell_type": "markdown",
   "id": "2c6058f1",
   "metadata": {},
   "source": [
    "### Basic Statistical Overview\n",
    "- Summary Statistical: describe()"
   ]
  },
  {
   "cell_type": "code",
   "execution_count": 12,
   "id": "2f686c2c",
   "metadata": {},
   "outputs": [
    {
     "data": {
      "application/vnd.microsoft.datawrangler.viewer.v0+json": {
       "columns": [
        {
         "name": "index",
         "rawType": "object",
         "type": "string"
        },
        {
         "name": "count",
         "rawType": "float64",
         "type": "float"
        },
        {
         "name": "mean",
         "rawType": "float64",
         "type": "float"
        },
        {
         "name": "std",
         "rawType": "float64",
         "type": "float"
        },
        {
         "name": "min",
         "rawType": "float64",
         "type": "float"
        },
        {
         "name": "25%",
         "rawType": "float64",
         "type": "float"
        },
        {
         "name": "50%",
         "rawType": "float64",
         "type": "float"
        },
        {
         "name": "75%",
         "rawType": "float64",
         "type": "float"
        },
        {
         "name": "max",
         "rawType": "float64",
         "type": "float"
        }
       ],
       "ref": "ab4fa9f0-5a77-4230-875c-9217b867157e",
       "rows": [
        [
         "Credit Score",
         "10000.0",
         "650.5288",
         "96.65329873613035",
         "350.0",
         "584.0",
         "652.0",
         "718.0",
         "850.0"
        ],
        [
         "Age",
         "10000.0",
         "38.9218",
         "10.487806451704609",
         "18.0",
         "32.0",
         "37.0",
         "44.0",
         "92.0"
        ],
        [
         "Tenure",
         "10000.0",
         "5.0128",
         "2.8921743770496837",
         "0.0",
         "3.0",
         "5.0",
         "7.0",
         "10.0"
        ],
        [
         "Balance",
         "10000.0",
         "76485.889288",
         "62397.40520238596",
         "0.0",
         "0.0",
         "97198.54000000001",
         "127644.24",
         "250898.09"
        ],
        [
         "Number Of Products",
         "10000.0",
         "1.5302",
         "0.5816543579989906",
         "1.0",
         "1.0",
         "1.0",
         "2.0",
         "4.0"
        ],
        [
         "Has credit card",
         "10000.0",
         "0.7055",
         "0.4558404644751334",
         "0.0",
         "0.0",
         "1.0",
         "1.0",
         "1.0"
        ],
        [
         "Is Active Member",
         "10000.0",
         "0.5151",
         "0.49979692845891893",
         "0.0",
         "0.0",
         "1.0",
         "1.0",
         "1.0"
        ],
        [
         "Estimated Salary",
         "10000.0",
         "100090.239881",
         "57510.49281769816",
         "11.58",
         "51002.11",
         "100193.915",
         "149388.2475",
         "199992.48"
        ],
        [
         "Churned",
         "10000.0",
         "0.2037",
         "0.40276858399486093",
         "0.0",
         "0.0",
         "0.0",
         "0.0",
         "1.0"
        ]
       ],
       "shape": {
        "columns": 8,
        "rows": 9
       }
      },
      "text/html": [
       "<div>\n",
       "<style scoped>\n",
       "    .dataframe tbody tr th:only-of-type {\n",
       "        vertical-align: middle;\n",
       "    }\n",
       "\n",
       "    .dataframe tbody tr th {\n",
       "        vertical-align: top;\n",
       "    }\n",
       "\n",
       "    .dataframe thead th {\n",
       "        text-align: right;\n",
       "    }\n",
       "</style>\n",
       "<table border=\"1\" class=\"dataframe\">\n",
       "  <thead>\n",
       "    <tr style=\"text-align: right;\">\n",
       "      <th></th>\n",
       "      <th>count</th>\n",
       "      <th>mean</th>\n",
       "      <th>std</th>\n",
       "      <th>min</th>\n",
       "      <th>25%</th>\n",
       "      <th>50%</th>\n",
       "      <th>75%</th>\n",
       "      <th>max</th>\n",
       "    </tr>\n",
       "  </thead>\n",
       "  <tbody>\n",
       "    <tr>\n",
       "      <th>Credit Score</th>\n",
       "      <td>10000.0</td>\n",
       "      <td>650.528800</td>\n",
       "      <td>96.653299</td>\n",
       "      <td>350.00</td>\n",
       "      <td>584.00</td>\n",
       "      <td>652.000</td>\n",
       "      <td>718.0000</td>\n",
       "      <td>850.00</td>\n",
       "    </tr>\n",
       "    <tr>\n",
       "      <th>Age</th>\n",
       "      <td>10000.0</td>\n",
       "      <td>38.921800</td>\n",
       "      <td>10.487806</td>\n",
       "      <td>18.00</td>\n",
       "      <td>32.00</td>\n",
       "      <td>37.000</td>\n",
       "      <td>44.0000</td>\n",
       "      <td>92.00</td>\n",
       "    </tr>\n",
       "    <tr>\n",
       "      <th>Tenure</th>\n",
       "      <td>10000.0</td>\n",
       "      <td>5.012800</td>\n",
       "      <td>2.892174</td>\n",
       "      <td>0.00</td>\n",
       "      <td>3.00</td>\n",
       "      <td>5.000</td>\n",
       "      <td>7.0000</td>\n",
       "      <td>10.00</td>\n",
       "    </tr>\n",
       "    <tr>\n",
       "      <th>Balance</th>\n",
       "      <td>10000.0</td>\n",
       "      <td>76485.889288</td>\n",
       "      <td>62397.405202</td>\n",
       "      <td>0.00</td>\n",
       "      <td>0.00</td>\n",
       "      <td>97198.540</td>\n",
       "      <td>127644.2400</td>\n",
       "      <td>250898.09</td>\n",
       "    </tr>\n",
       "    <tr>\n",
       "      <th>Number Of Products</th>\n",
       "      <td>10000.0</td>\n",
       "      <td>1.530200</td>\n",
       "      <td>0.581654</td>\n",
       "      <td>1.00</td>\n",
       "      <td>1.00</td>\n",
       "      <td>1.000</td>\n",
       "      <td>2.0000</td>\n",
       "      <td>4.00</td>\n",
       "    </tr>\n",
       "    <tr>\n",
       "      <th>Has credit card</th>\n",
       "      <td>10000.0</td>\n",
       "      <td>0.705500</td>\n",
       "      <td>0.455840</td>\n",
       "      <td>0.00</td>\n",
       "      <td>0.00</td>\n",
       "      <td>1.000</td>\n",
       "      <td>1.0000</td>\n",
       "      <td>1.00</td>\n",
       "    </tr>\n",
       "    <tr>\n",
       "      <th>Is Active Member</th>\n",
       "      <td>10000.0</td>\n",
       "      <td>0.515100</td>\n",
       "      <td>0.499797</td>\n",
       "      <td>0.00</td>\n",
       "      <td>0.00</td>\n",
       "      <td>1.000</td>\n",
       "      <td>1.0000</td>\n",
       "      <td>1.00</td>\n",
       "    </tr>\n",
       "    <tr>\n",
       "      <th>Estimated Salary</th>\n",
       "      <td>10000.0</td>\n",
       "      <td>100090.239881</td>\n",
       "      <td>57510.492818</td>\n",
       "      <td>11.58</td>\n",
       "      <td>51002.11</td>\n",
       "      <td>100193.915</td>\n",
       "      <td>149388.2475</td>\n",
       "      <td>199992.48</td>\n",
       "    </tr>\n",
       "    <tr>\n",
       "      <th>Churned</th>\n",
       "      <td>10000.0</td>\n",
       "      <td>0.203700</td>\n",
       "      <td>0.402769</td>\n",
       "      <td>0.00</td>\n",
       "      <td>0.00</td>\n",
       "      <td>0.000</td>\n",
       "      <td>0.0000</td>\n",
       "      <td>1.00</td>\n",
       "    </tr>\n",
       "  </tbody>\n",
       "</table>\n",
       "</div>"
      ],
      "text/plain": [
       "                      count           mean           std     min       25%  \\\n",
       "Credit Score        10000.0     650.528800     96.653299  350.00    584.00   \n",
       "Age                 10000.0      38.921800     10.487806   18.00     32.00   \n",
       "Tenure              10000.0       5.012800      2.892174    0.00      3.00   \n",
       "Balance             10000.0   76485.889288  62397.405202    0.00      0.00   \n",
       "Number Of Products  10000.0       1.530200      0.581654    1.00      1.00   \n",
       "Has credit card     10000.0       0.705500      0.455840    0.00      0.00   \n",
       "Is Active Member    10000.0       0.515100      0.499797    0.00      0.00   \n",
       "Estimated Salary    10000.0  100090.239881  57510.492818   11.58  51002.11   \n",
       "Churned             10000.0       0.203700      0.402769    0.00      0.00   \n",
       "\n",
       "                           50%          75%        max  \n",
       "Credit Score           652.000     718.0000     850.00  \n",
       "Age                     37.000      44.0000      92.00  \n",
       "Tenure                   5.000       7.0000      10.00  \n",
       "Balance              97198.540  127644.2400  250898.09  \n",
       "Number Of Products       1.000       2.0000       4.00  \n",
       "Has credit card          1.000       1.0000       1.00  \n",
       "Is Active Member         1.000       1.0000       1.00  \n",
       "Estimated Salary    100193.915  149388.2475  199992.48  \n",
       "Churned                  0.000       0.0000       1.00  "
      ]
     },
     "execution_count": 12,
     "metadata": {},
     "output_type": "execute_result"
    }
   ],
   "source": [
    "df.describe().T"
   ]
  },
  {
   "cell_type": "markdown",
   "id": "6ce9d772",
   "metadata": {},
   "source": [
    "- Summary Statistical : **value_counts()**\n",
    "----------------------"
   ]
  },
  {
   "cell_type": "code",
   "execution_count": 13,
   "id": "97de12fb",
   "metadata": {},
   "outputs": [
    {
     "data": {
      "image/png": "[encoded data removed]",
      "text/plain": [
       "<Figure size 640x480 with 1 Axes>"
      ]
     },
     "metadata": {},
     "output_type": "display_data"
    }
   ],
   "source": [
    "df['Number Of Products'].value_counts().plot.pie(autopct='%0.2f%%')\n",
    "plt.show()"
   ]
  },
  {
   "cell_type": "code",
   "execution_count": 14,
   "id": "8f647af4",
   "metadata": {},
   "outputs": [
    {
     "data": {
      "image/png": "[encoded data removed]",
      "text/plain": [
       "<Figure size 640x480 with 1 Axes>"
      ]
     },
     "metadata": {},
     "output_type": "display_data"
    }
   ],
   "source": [
    "sns.countplot(x='Geography', data=df, hue='Geography', palette=['green','blue','yellow'], legend=False)\n",
    "plt.show()"
   ]
  },
  {
   "cell_type": "code",
   "execution_count": 15,
   "id": "b17aa35b",
   "metadata": {},
   "outputs": [
    {
     "data": {
      "image/png": "[encoded data removed]",
      "text/plain": [
       "<Figure size 640x480 with 1 Axes>"
      ]
     },
     "metadata": {},
     "output_type": "display_data"
    }
   ],
   "source": [
    "sns.countplot(x='Has credit card', hue='Has credit card', data=df, palette=['green','blue'], legend=False)\n",
    "plt.show()"
   ]
  },
  {
   "cell_type": "code",
   "execution_count": 16,
   "id": "c81bade3",
   "metadata": {},
   "outputs": [
    {
     "data": {
      "image/png": "[encoded data removed]",
      "text/plain": [
       "<Figure size 640x480 with 1 Axes>"
      ]
     },
     "metadata": {},
     "output_type": "display_data"
    }
   ],
   "source": [
    "sns.countplot(x='Is Active Member', hue='Is Active Member', data=df, palette=['orange','yellow'], legend=False)\n",
    "plt.show()"
   ]
  },
  {
   "cell_type": "code",
   "execution_count": 17,
   "id": "a0cf191d",
   "metadata": {},
   "outputs": [
    {
     "data": {
      "image/png": "[encoded data removed]",
      "text/plain": [
       "<Figure size 640x480 with 1 Axes>"
      ]
     },
     "metadata": {},
     "output_type": "display_data"
    }
   ],
   "source": [
    "sns.countplot(x='Gender', hue='Gender', data=df, palette=['pink','lightblue'], legend=False)\n",
    "plt.show()"
   ]
  },
  {
   "cell_type": "code",
   "execution_count": 18,
   "id": "e948fd61",
   "metadata": {},
   "outputs": [
    {
     "data": {
      "image/png": "[encoded data removed]",
      "text/plain": [
       "<Figure size 640x480 with 1 Axes>"
      ]
     },
     "metadata": {},
     "output_type": "display_data"
    }
   ],
   "source": [
    "sns.countplot(x='Churned', hue='Churned', data=df, palette=['red','blue'], legend=False)\n",
    "plt.show()"
   ]
  },
  {
   "cell_type": "markdown",
   "id": "d15085f0",
   "metadata": {},
   "source": [
    "### Distribution of Variables\n",
    "- Numerical Features (KDE)"
   ]
  },
  {
   "cell_type": "code",
   "execution_count": 19,
   "id": "773851ee",
   "metadata": {},
   "outputs": [
    {
     "data": {
      "image/png": "[encoded data removed]",
      "text/plain": [
       "<Figure size 1400x400 with 1 Axes>"
      ]
     },
     "metadata": {},
     "output_type": "display_data"
    }
   ],
   "source": [
    "plt.figure(figsize=(14, 4))\n",
    "sns.kdeplot(df['Balance'], fill=True, color='red', alpha=0.6)\n",
    "plt.title('Kernel Density Estimation of Balance', fontsize=15)\n",
    "plt.xlabel('Balance', fontsize=12)\n",
    "plt.ylabel('Density', fontsize=12)\n",
    "plt.grid(True, linestyle='--', alpha=0.7)\n",
    "plt.show()\n"
   ]
  },
  {
   "cell_type": "markdown",
   "id": "cef06c1d",
   "metadata": {},
   "source": [
    "- #### **Primeiro Pico:** O primeiro e menor pico está localizado em um saldo de aproximadamente 0. Isso sugere uma alta concentração de indivíduos com pouco ou nenhum saldo.\n",
    "- #### **Segundo Pico:** O segundo e maior pico está centrado em um saldo de aproximadamente 120.000. Isso indica outro grupo significativo de indivíduos com saldos concentrados em torno desse valor mais alto."
   ]
  },
  {
   "cell_type": "code",
   "execution_count": 20,
   "id": "0cead3ea",
   "metadata": {},
   "outputs": [
    {
     "data": {
      "image/png": "[encoded data removed]",
      "text/plain": [
       "<Figure size 1400x400 with 1 Axes>"
      ]
     },
     "metadata": {},
     "output_type": "display_data"
    }
   ],
   "source": [
    "plt.figure(figsize=(14, 4))\n",
    "sns.kdeplot(df['Age'], fill=True, color='red', alpha=0.6)\n",
    "plt.title('Kernel Density Estimate(KDE) - Age',\tfontsize=16)\n",
    "plt.xlabel('Age', fontsize=12)\n",
    "plt.ylabel('Density', fontsize=12)\n",
    "plt.grid(True, linestyle='--', alpha=0.7)\n",
    "plt.show()\n"
   ]
  },
  {
   "cell_type": "markdown",
   "id": "3b1fc02d",
   "metadata": {},
   "source": [
    "- #### **O gráfico revela uma distribuição com assimetria positiva (também conhecida como assimetria à direita). Isso significa que a cauda da distribuição se estende para a direita, indicando que, embora a maioria dos dados esteja concentrada no lado esquerdo, há um número menor de indivíduos em idades mais avançadas.**\n",
    "- #### **A distribuição possui um único pico, ou moda, que representa a faixa etária mais frequente. A maior densidade de indivíduos está em torno dos 40 anos. A densidade diminui rapidamente após o pico, com uma queda gradual e prolongada em direção às idades mais altas, chegando a quase 100 anos. A densidade de indivíduos em idades mais jovens (abaixo de 20 anos) é muito baixa.**"
   ]
  },
  {
   "cell_type": "markdown",
   "id": "5851645f",
   "metadata": {},
   "source": [
    "### Verificação da correlação entre as features"
   ]
  },
  {
   "cell_type": "code",
   "execution_count": 22,
   "id": "3f21eb04",
   "metadata": {},
   "outputs": [
    {
     "data": {
      "image/png": "[encoded data removed]",
      "text/plain": [
       "<Figure size 1400x700 with 2 Axes>"
      ]
     },
     "metadata": {},
     "output_type": "display_data"
    }
   ],
   "source": [
    "plt.figure(figsize=(14, 7))\n",
    "sns.heatmap(df.select_dtypes(include='number').corr(), annot=True, cmap='coolwarm', fmt='.2f', linewidths=0.5)\n",
    "plt.show()"
   ]
  },
  {
   "cell_type": "markdown",
   "id": "96242530",
   "metadata": {},
   "source": [
    "- #### Há uma correlação positiva normal (0,3) entre **Age** e **Churned**.\n",
    "- #### Há uma correlação negativa normal (-0,3) entre **Balance** e **Number of products**."
   ]
  },
  {
   "cell_type": "markdown",
   "id": "fe3ca351",
   "metadata": {},
   "source": [
    "### Extração de Feature"
   ]
  },
  {
   "cell_type": "code",
   "execution_count": 23,
   "id": "c087091b",
   "metadata": {},
   "outputs": [],
   "source": [
    "def ageGroup(age):\n",
    "    age = int(age)\n",
    "    if age <= 40:\n",
    "        return 'Young Adults'\n",
    "    elif age > 40 and age < 60:\n",
    "        return 'Middle-Aged Adults'\n",
    "    else:\n",
    "        return 'Senior Adults'\n",
    "    \n",
    "df['Age Group'] = df['Age'].apply(lambda x: ageGroup(x))"
   ]
  },
  {
   "cell_type": "code",
   "execution_count": 25,
   "id": "1657beee",
   "metadata": {},
   "outputs": [
    {
     "data": {
      "application/vnd.microsoft.datawrangler.viewer.v0+json": {
       "columns": [
        {
         "name": "Age Group",
         "rawType": "object",
         "type": "string"
        },
        {
         "name": "count",
         "rawType": "int64",
         "type": "integer"
        }
       ],
       "ref": "058c72f4-1306-4d0d-8d7f-85fae09a4701",
       "rows": [
        [
         "Young Adults",
         "6419"
        ],
        [
         "Middle-Aged Adults",
         "3055"
        ],
        [
         "Senior Adults",
         "526"
        ]
       ],
       "shape": {
        "columns": 1,
        "rows": 3
       }
      },
      "text/plain": [
       "Age Group\n",
       "Young Adults          6419\n",
       "Middle-Aged Adults    3055\n",
       "Senior Adults          526\n",
       "Name: count, dtype: int64"
      ]
     },
     "execution_count": 25,
     "metadata": {},
     "output_type": "execute_result"
    }
   ],
   "source": [
    "df['Age Group'].value_counts()"
   ]
  },
  {
   "cell_type": "code",
   "execution_count": 26,
   "id": "6a6d5bbb",
   "metadata": {},
   "outputs": [
    {
     "data": {
      "image/png": "[encoded data removed]",
      "text/plain": [
       "<Figure size 640x480 with 1 Axes>"
      ]
     },
     "metadata": {},
     "output_type": "display_data"
    }
   ],
   "source": [
    "df['Age Group'].value_counts().plot.pie(autopct='%0.2f%%', colors=['lightblue','orange','lightgreen'])\n",
    "plt.show()"
   ]
  },
  {
   "cell_type": "code",
   "execution_count": 27,
   "id": "ee4f4c75",
   "metadata": {},
   "outputs": [],
   "source": [
    "def balanceGroup(balance):\n",
    "    balance = float(balance)\n",
    "    if balance > 0:\n",
    "        return 'Funded account'\n",
    "    elif balance == 0:\n",
    "        return 'Empty account'\n",
    "    else:\n",
    "        return 'Overdrawn account'\n",
    "    \n",
    "df['Balance category'] = df['Balance'].apply(lambda x: balanceGroup(x))\n",
    "    "
   ]
  },
  {
   "cell_type": "code",
   "execution_count": 30,
   "id": "8f1846f8",
   "metadata": {},
   "outputs": [
    {
     "data": {
      "application/vnd.microsoft.datawrangler.viewer.v0+json": {
       "columns": [
        {
         "name": "Balance category",
         "rawType": "object",
         "type": "string"
        },
        {
         "name": "count",
         "rawType": "int64",
         "type": "integer"
        }
       ],
       "ref": "c241f18b-9724-4759-b6c4-ee04365059c8",
       "rows": [
        [
         "Funded account",
         "6383"
        ],
        [
         "Empty account",
         "3617"
        ]
       ],
       "shape": {
        "columns": 1,
        "rows": 2
       }
      },
      "text/plain": [
       "Balance category\n",
       "Funded account    6383\n",
       "Empty account     3617\n",
       "Name: count, dtype: int64"
      ]
     },
     "execution_count": 30,
     "metadata": {},
     "output_type": "execute_result"
    }
   ],
   "source": [
    "df['Balance category'].value_counts()"
   ]
  },
  {
   "cell_type": "code",
   "execution_count": 31,
   "id": "ee280ee2",
   "metadata": {},
   "outputs": [],
   "source": [
    "def activeGroup(actAcc):\n",
    "    actAcc = int(actAcc)\n",
    "    if actAcc == 1:\n",
    "        return 'Active account'\n",
    "    else:\n",
    "        return 'Dormant account'\n",
    "    \n",
    "df['Is active Member']= df['Is Active Member'].apply(lambda x: activeGroup(x))"
   ]
  },
  {
   "cell_type": "code",
   "execution_count": 32,
   "id": "083b8147",
   "metadata": {},
   "outputs": [
    {
     "data": {
      "application/vnd.microsoft.datawrangler.viewer.v0+json": {
       "columns": [
        {
         "name": "Is Active Member",
         "rawType": "int64",
         "type": "integer"
        },
        {
         "name": "count",
         "rawType": "int64",
         "type": "integer"
        }
       ],
       "ref": "5f922c14-7fe0-4a7f-acb3-a9a8edb93eab",
       "rows": [
        [
         "1",
         "5151"
        ],
        [
         "0",
         "4849"
        ]
       ],
       "shape": {
        "columns": 1,
        "rows": 2
       }
      },
      "text/plain": [
       "Is Active Member\n",
       "1    5151\n",
       "0    4849\n",
       "Name: count, dtype: int64"
      ]
     },
     "execution_count": 32,
     "metadata": {},
     "output_type": "execute_result"
    }
   ],
   "source": [
    "df['Is Active Member'].value_counts()"
   ]
  },
  {
   "cell_type": "code",
   "execution_count": 33,
   "id": "ef280a09",
   "metadata": {},
   "outputs": [],
   "source": [
    "def cardGroup(card):\n",
    "    card = int(card)\n",
    "    if card == 1:\n",
    "        return 'Has a card'\n",
    "    else:\n",
    "        return 'No card'\n",
    "    \n",
    "df['Has credit card'] = df['Has credit card'].apply(lambda x: cardGroup(x))"
   ]
  },
  {
   "cell_type": "code",
   "execution_count": 34,
   "id": "fce9e482",
   "metadata": {},
   "outputs": [
    {
     "data": {
      "application/vnd.microsoft.datawrangler.viewer.v0+json": {
       "columns": [
        {
         "name": "Has credit card",
         "rawType": "object",
         "type": "string"
        },
        {
         "name": "count",
         "rawType": "int64",
         "type": "integer"
        }
       ],
       "ref": "93e6b9c9-5c3d-481c-b298-2dd1062b7db8",
       "rows": [
        [
         "Has a card",
         "7055"
        ],
        [
         "No card",
         "2945"
        ]
       ],
       "shape": {
        "columns": 1,
        "rows": 2
       }
      },
      "text/plain": [
       "Has credit card\n",
       "Has a card    7055\n",
       "No card       2945\n",
       "Name: count, dtype: int64"
      ]
     },
     "execution_count": 34,
     "metadata": {},
     "output_type": "execute_result"
    }
   ],
   "source": [
    "df['Has credit card'].value_counts()"
   ]
  },
  {
   "cell_type": "code",
   "execution_count": 37,
   "id": "8c4c023c",
   "metadata": {},
   "outputs": [],
   "source": [
    "def categorize_credit(score):\n",
    "    if score < 580:\n",
    "        return 'Poor'\n",
    "    elif score < 670:\n",
    "        return 'Fair'\n",
    "    elif score < 740:\n",
    "        return 'Good'\n",
    "    elif score < 800:\n",
    "        return 'Very Good'\n",
    "    else:\n",
    "        return 'Exceptional'\n",
    "    \n",
    "df['Credit Score Category'] = df['Credit Score'].apply(categorize_credit)"
   ]
  },
  {
   "cell_type": "code",
   "execution_count": 39,
   "id": "e59ff943",
   "metadata": {},
   "outputs": [
    {
     "data": {
      "application/vnd.microsoft.datawrangler.viewer.v0+json": {
       "columns": [
        {
         "name": "Credit Score Category",
         "rawType": "object",
         "type": "string"
        },
        {
         "name": "count",
         "rawType": "int64",
         "type": "integer"
        }
       ],
       "ref": "1e61b167-1cf9-46dd-981f-833fb17a6f8e",
       "rows": [
        [
         "Fair",
         "3331"
        ],
        [
         "Good",
         "2428"
        ],
        [
         "Poor",
         "2362"
        ],
        [
         "Very Good",
         "1224"
        ],
        [
         "Exceptional",
         "655"
        ]
       ],
       "shape": {
        "columns": 1,
        "rows": 5
       }
      },
      "text/plain": [
       "Credit Score Category\n",
       "Fair           3331\n",
       "Good           2428\n",
       "Poor           2362\n",
       "Very Good      1224\n",
       "Exceptional     655\n",
       "Name: count, dtype: int64"
      ]
     },
     "execution_count": 39,
     "metadata": {},
     "output_type": "execute_result"
    }
   ],
   "source": [
    "df['Credit Score Category'].value_counts()"
   ]
  },
  {
   "cell_type": "code",
   "execution_count": 40,
   "id": "d85a0401",
   "metadata": {},
   "outputs": [],
   "source": [
    "def Churned(exit):\n",
    "    exit = int(exit)\n",
    "    if exit == 1:\n",
    "        return 'Churned'\n",
    "    else:\n",
    "        return 'Not churned'\n",
    "    \n",
    "df['Churned'] = df['Churned'].apply(lambda x: Churned(x))"
   ]
  },
  {
   "cell_type": "code",
   "execution_count": 41,
   "id": "af21f01b",
   "metadata": {},
   "outputs": [
    {
     "data": {
      "application/vnd.microsoft.datawrangler.viewer.v0+json": {
       "columns": [
        {
         "name": "Churned",
         "rawType": "object",
         "type": "string"
        },
        {
         "name": "count",
         "rawType": "int64",
         "type": "integer"
        }
       ],
       "ref": "20f5b6aa-2560-4550-89c3-55c001fb2860",
       "rows": [
        [
         "Not churned",
         "7963"
        ],
        [
         "Churned",
         "2037"
        ]
       ],
       "shape": {
        "columns": 1,
        "rows": 2
       }
      },
      "text/plain": [
       "Churned\n",
       "Not churned    7963\n",
       "Churned        2037\n",
       "Name: count, dtype: int64"
      ]
     },
     "execution_count": 41,
     "metadata": {},
     "output_type": "execute_result"
    }
   ],
   "source": [
    "df['Churned'].value_counts()"
   ]
  },
  {
   "cell_type": "code",
   "execution_count": 42,
   "id": "7a95aa11",
   "metadata": {},
   "outputs": [],
   "source": [
    "def category_Estimated_Salary(Salary):\n",
    "    if Salary < 50000:\n",
    "        return 'Low'\n",
    "    elif Salary < 100000:\n",
    "        return 'Medium'\n",
    "    elif Salary < 150000:\n",
    "        return 'High'\n",
    "    else:\n",
    "        return 'Very High'\n",
    "    \n",
    "df['Estimated Salary Category'] = df['Estimated Salary'].apply(category_Estimated_Salary)"
   ]
  },
  {
   "cell_type": "code",
   "execution_count": 43,
   "id": "439f1b31",
   "metadata": {},
   "outputs": [
    {
     "data": {
      "application/vnd.microsoft.datawrangler.viewer.v0+json": {
       "columns": [
        {
         "name": "Estimated Salary Category",
         "rawType": "object",
         "type": "string"
        },
        {
         "name": "count",
         "rawType": "int64",
         "type": "integer"
        }
       ],
       "ref": "95e1be17-a958-4506-a484-2e17b0f01027",
       "rows": [
        [
         "High",
         "2555"
        ],
        [
         "Medium",
         "2537"
        ],
        [
         "Very High",
         "2455"
        ],
        [
         "Low",
         "2453"
        ]
       ],
       "shape": {
        "columns": 1,
        "rows": 4
       }
      },
      "text/plain": [
       "Estimated Salary Category\n",
       "High         2555\n",
       "Medium       2537\n",
       "Very High    2455\n",
       "Low          2453\n",
       "Name: count, dtype: int64"
      ]
     },
     "execution_count": 43,
     "metadata": {},
     "output_type": "execute_result"
    }
   ],
   "source": [
    "df['Estimated Salary Category'].value_counts()"
   ]
  },
  {
   "cell_type": "code",
   "execution_count": 44,
   "id": "564fa80e",
   "metadata": {},
   "outputs": [],
   "source": [
    "df['BalanceSalaryRatio'] = df['Balance'] / df['Estimated Salary']"
   ]
  },
  {
   "cell_type": "code",
   "execution_count": 45,
   "id": "3e5bd11a",
   "metadata": {},
   "outputs": [
    {
     "data": {
      "application/vnd.microsoft.datawrangler.viewer.v0+json": {
       "columns": [
        {
         "name": "index",
         "rawType": "int64",
         "type": "integer"
        },
        {
         "name": "Balance",
         "rawType": "float64",
         "type": "float"
        },
        {
         "name": "Estimated Salary",
         "rawType": "float64",
         "type": "float"
        },
        {
         "name": "BalanceSalaryRatio",
         "rawType": "float64",
         "type": "float"
        }
       ],
       "ref": "c978dac7-fd32-4034-afc0-ddf1302ebc5d",
       "rows": [
        [
         "0",
         "0.0",
         "101348.88",
         "0.0"
        ],
        [
         "1",
         "83807.86",
         "112542.58",
         "0.7446769036217226"
        ],
        [
         "2",
         "159660.8",
         "113931.57",
         "1.4013745268322026"
        ],
        [
         "3",
         "0.0",
         "93826.63",
         "0.0"
        ],
        [
         "4",
         "125510.82",
         "79084.1",
         "1.5870550464631954"
        ]
       ],
       "shape": {
        "columns": 3,
        "rows": 5
       }
      },
      "text/html": [
       "<div>\n",
       "<style scoped>\n",
       "    .dataframe tbody tr th:only-of-type {\n",
       "        vertical-align: middle;\n",
       "    }\n",
       "\n",
       "    .dataframe tbody tr th {\n",
       "        vertical-align: top;\n",
       "    }\n",
       "\n",
       "    .dataframe thead th {\n",
       "        text-align: right;\n",
       "    }\n",
       "</style>\n",
       "<table border=\"1\" class=\"dataframe\">\n",
       "  <thead>\n",
       "    <tr style=\"text-align: right;\">\n",
       "      <th></th>\n",
       "      <th>Balance</th>\n",
       "      <th>Estimated Salary</th>\n",
       "      <th>BalanceSalaryRatio</th>\n",
       "    </tr>\n",
       "  </thead>\n",
       "  <tbody>\n",
       "    <tr>\n",
       "      <th>0</th>\n",
       "      <td>0.00</td>\n",
       "      <td>101348.88</td>\n",
       "      <td>0.000000</td>\n",
       "    </tr>\n",
       "    <tr>\n",
       "      <th>1</th>\n",
       "      <td>83807.86</td>\n",
       "      <td>112542.58</td>\n",
       "      <td>0.744677</td>\n",
       "    </tr>\n",
       "    <tr>\n",
       "      <th>2</th>\n",
       "      <td>159660.80</td>\n",
       "      <td>113931.57</td>\n",
       "      <td>1.401375</td>\n",
       "    </tr>\n",
       "    <tr>\n",
       "      <th>3</th>\n",
       "      <td>0.00</td>\n",
       "      <td>93826.63</td>\n",
       "      <td>0.000000</td>\n",
       "    </tr>\n",
       "    <tr>\n",
       "      <th>4</th>\n",
       "      <td>125510.82</td>\n",
       "      <td>79084.10</td>\n",
       "      <td>1.587055</td>\n",
       "    </tr>\n",
       "  </tbody>\n",
       "</table>\n",
       "</div>"
      ],
      "text/plain": [
       "     Balance  Estimated Salary  BalanceSalaryRatio\n",
       "0       0.00         101348.88            0.000000\n",
       "1   83807.86         112542.58            0.744677\n",
       "2  159660.80         113931.57            1.401375\n",
       "3       0.00          93826.63            0.000000\n",
       "4  125510.82          79084.10            1.587055"
      ]
     },
     "execution_count": 45,
     "metadata": {},
     "output_type": "execute_result"
    }
   ],
   "source": [
    "df[['Balance', 'Estimated Salary', 'BalanceSalaryRatio']].head()"
   ]
  },
  {
   "cell_type": "code",
   "execution_count": null,
   "id": "69c32e8b",
   "metadata": {},
   "outputs": [],
   "source": [
    "import os\n",
    "\n",
    "if not os.path.exists('analysis'):\n",
    "    os.makedirs('analysis')\n",
    "\n",
    "df.to_excel('analysis/bank customer churn new dataset.xlsx', index=False)"
   ]
  },
  {
   "cell_type": "code",
   "execution_count": null,
   "id": "44908215",
   "metadata": {},
   "outputs": [],
   "source": []
  }
 ],
 "metadata": {
  "kernelspec": {
   "display_name": ".venv",
   "language": "python",
   "name": "python3"
  },
  "language_info": {
   "codemirror_mode": {
    "name": "ipython",
    "version": 3
   },
   "file_extension": ".py",
   "mimetype": "text/x-python",
   "name": "python",
   "nbconvert_exporter": "python",
   "pygments_lexer": "ipython3",
   "version": "3.12.2"
  }
 },
 "nbformat": 4,
 "nbformat_minor": 5
}
